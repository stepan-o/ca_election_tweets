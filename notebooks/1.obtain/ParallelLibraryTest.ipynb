{
 "cells": [
  {
   "cell_type": "code",
   "execution_count": 1,
   "metadata": {},
   "outputs": [],
   "source": [
    "import ray\n",
    "import json\n",
    "import time\n",
    "import glob\n",
    "from src.seanmod import *"
   ]
  },
  {
   "cell_type": "markdown",
   "metadata": {},
   "source": [
    "## Experiment 1: Simple Test of the Ray Library:\n",
    "\n"
   ]
  },
  {
   "cell_type": "code",
   "execution_count": 11,
   "metadata": {},
   "outputs": [
    {
     "name": "stderr",
     "output_type": "stream",
     "text": [
      "2019-10-11 14:05:44,203\tINFO resource_spec.py:205 -- Starting Ray with 25.68 GiB memory available for workers and up to 12.84 GiB for objects. You can adjust these settings with ray.init(memory=<bytes>, object_store_memory=<bytes>).\n"
     ]
    },
    {
     "data": {
      "text/plain": [
       "{'node_ip_address': '192.168.0.185',\n",
       " 'redis_address': '192.168.0.185:48509',\n",
       " 'object_store_address': '/tmp/ray/session_2019-10-11_14-05-44_200435_6340/sockets/plasma_store',\n",
       " 'raylet_socket_name': '/tmp/ray/session_2019-10-11_14-05-44_200435_6340/sockets/raylet',\n",
       " 'webui_url': None,\n",
       " 'session_dir': '/tmp/ray/session_2019-10-11_14-05-44_200435_6340'}"
      ]
     },
     "execution_count": 11,
     "metadata": {},
     "output_type": "execute_result"
    },
    {
     "name": "stdout",
     "output_type": "stream",
     "text": [
      "[300000001, 300000001, 300000001, 300000001, 300000001, 300000001, 300000001, 300000001, 300000001, 300000001]\n"
     ]
    }
   ],
   "source": [
    "#Only call once! \n",
    "ray.init(num_cpus=2)\n",
    "\n",
    "@ray.remote\n",
    "def f(x):\n",
    "    i=0;\n",
    "    for i in range(x,300000001):\n",
    "        i = i+1\n",
    "    return i\n",
    "\n",
    "@ray.remote\n",
    "def g(x):\n",
    "    return pd.DataFrame({\"A\":[1,2],\"B\":[3,4]})\n",
    "\n",
    "@ray.remote\n",
    "def h(x):\n",
    "    return x\n",
    "\n",
    "    \n",
    "futures = [f.remote(i) for i in range(10)]\n",
    "print(ray.get(futures))\n",
    "\n",
    "ray.shutdown()"
   ]
  },
  {
   "cell_type": "markdown",
   "metadata": {},
   "source": [
    "### Note the Following:\n",
    "\n",
    "- Only call ray.init() once per session.\n",
    "    - can configure memory, number of physical cores, object space with this method.\n",
    "\n",
    "#### Simplest Run Pattern to run: \n",
    "\n",
    "1) Call ray.init(...with args)\n",
    "\n",
    "2) Encapsulate your entire block of code in a function, parameterized.\n",
    "\n",
    "3) For inputs, create a list of tuples, pass to function block.\n",
    "\n",
    "4) Iterate over list, and call function.remote(< input >). A reference address will be returned as the function is computing.\n",
    "\n",
    "5) use the ray.get() function on given IDs, to get results.\n",
    "\n",
    "6) Call ray.shutdown() to clean up idle processes, when work is done.\n"
   ]
  },
  {
   "cell_type": "markdown",
   "metadata": {},
   "source": [
    "### Experiment 2:\n",
    "\n",
    "How long does it take to load our three test files (450mb), and write them to disk?\n",
    "\n",
    "\n"
   ]
  },
  {
   "cell_type": "code",
   "execution_count": 10,
   "metadata": {},
   "outputs": [],
   "source": [
    "#Simple Timeit usage https://stackoverflow.com/questions/7370801/measure-time-elapsed-in-python\n",
    "\n",
    "@ray.remote\n",
    "def get3frames(fileName):\n",
    "\n",
    "    #Lets read in the tweets, and convert them to a DataFrame\n",
    "    topLevelFields = [\"id\",\"created_at\", \"text\",\"quote_count\",\"reply_count\",\"retweet_count\",\n",
    "                      \"favorite_count\",\"user_id\",\"user_screen_name\"]\n",
    "    \n",
    "    userFields = [\"id\", \"created_at\", \"name\", \"screen_name\", \"verified\", \"followers_count\", \n",
    "                  \"friends_count\", \"favourites_count\", \"statuses_count\", \n",
    "                 \"profile_background_color\",\"profile_text_color\"]\n",
    "\n",
    "    userCheckDict = {\"test\": 1}\n",
    "\n",
    "    #make an empty DF.\n",
    "    tweetDF = pd.DataFrame(columns=topLevelFields + [\"hashtag_list\"])\n",
    "    userDF = pd.DataFrame(columns=userFields)  #list(map(lambda x: \"user_\" + x , userFields)))\n",
    "\n",
    "    baseDir = \"./data/\"\n",
    "\n",
    "    def parsetweet(jsonObj):\n",
    "        retList = []\n",
    "        for label in topLevelFields[:len(topLevelFields) - 2]: #Last two fields in user sub-obj.\n",
    "            retList.append(jsonObj[label])\n",
    "\n",
    "        hashTagString = \"\"\n",
    "        if jsonObj[\"entities\"][\"hashtags\"]:\n",
    "            for item in jsonObj[\"entities\"][\"hashtags\"]:\n",
    "                hashTagString = hashTagString + \",\" + item[\"text\"]\n",
    "            hashTagString = hashTagString[1:]\n",
    "        \n",
    "        retList.append(hashTagString)\n",
    "        \n",
    "        retList.append(jsonObj[\"user\"][\"id\"])\n",
    "        retList.append(jsonObj[\"user\"][\"screen_name\"])\n",
    "        return retList       \n",
    "\n",
    "    def parseuser(jsonObj):\n",
    "        #first, extract id from jsonObj for user. Is it in our table of users?\n",
    "        #To check (quickly) for a users presence, we need a hash table.\n",
    "        #In python, dictionaries serve the same purpose\n",
    "        retList = []\n",
    "        if jsonObj[\"user\"][\"id\"] not in userCheckDict:\n",
    "            userCheckDict[jsonObj[\"user\"][\"id\"]] = 1\n",
    "            for label in userFields:\n",
    "                retList.append(jsonObj[\"user\"][label])\n",
    " \n",
    "        return retList\n",
    "        \n",
    "    with open(baseDir + fileName + \".json\", \"r\") as tweets_file:\n",
    "        for i,line in enumerate(tweets_file):\n",
    "            try:\n",
    "                tweet = json.loads(line)\n",
    "                tweetDF.loc[tweetDF.shape[0]] = parsetweet(tweet)\n",
    "                retList = parseuser(tweet)\n",
    "                if retList: #Not empty: \n",
    "                    userDF.loc[userDF.shape[0]] = retList\n",
    "            except ValueError as e:\n",
    "                print('Handling run-time error:', e)            \n",
    "        tweets_file.close()\n",
    "    tweetDF.to_csv(\"./data/stage1/\" + fileName + \"_tweets.csv\")\n",
    "    userDF.to_csv(\"./data/stage1/\" + fileName + \"_users.csv\")\n",
    "    return \n",
    "    "
   ]
  },
  {
   "cell_type": "code",
   "execution_count": 19,
   "metadata": {},
   "outputs": [
    {
     "name": "stdout",
     "output_type": "stream",
     "text": [
      "Handling run-time error: Extra data: line 1 column 11825 (char 11824)\n"
     ]
    }
   ],
   "source": [
    "get3frames(\"fiveline\")"
   ]
  },
  {
   "cell_type": "markdown",
   "metadata": {},
   "source": [
    "Now to move onto the actual test with three files!"
   ]
  },
  {
   "cell_type": "code",
   "execution_count": 9,
   "metadata": {},
   "outputs": [],
   "source": [
    "ray.shutdown()"
   ]
  },
  {
   "cell_type": "code",
   "execution_count": 11,
   "metadata": {},
   "outputs": [
    {
     "name": "stderr",
     "output_type": "stream",
     "text": [
      "2019-10-12 09:53:09,612\tINFO resource_spec.py:205 -- Starting Ray with 23.93 GiB memory available for workers and up to 11.99 GiB for objects. You can adjust these settings with ray.init(memory=<bytes>, object_store_memory=<bytes>).\n"
     ]
    },
    {
     "data": {
      "text/plain": [
       "{'node_ip_address': '192.168.0.185',\n",
       " 'redis_address': '192.168.0.185:20761',\n",
       " 'object_store_address': '/tmp/ray/session_2019-10-12_09-53-09_609519_3130/sockets/plasma_store',\n",
       " 'raylet_socket_name': '/tmp/ray/session_2019-10-12_09-53-09_609519_3130/sockets/raylet',\n",
       " 'webui_url': None,\n",
       " 'session_dir': '/tmp/ray/session_2019-10-12_09-53-09_609519_3130'}"
      ]
     },
     "execution_count": 11,
     "metadata": {},
     "output_type": "execute_result"
    },
    {
     "name": "stdout",
     "output_type": "stream",
     "text": [
      "[None, None, None]\n",
      "377.4397077560425\n"
     ]
    }
   ],
   "source": [
    "#Only call once! \n",
    "timeStart = time.time()\n",
    "\n",
    "ray.init(num_cpus=3) #One File per CPU\n",
    "\n",
    "nameList = [\"comments1\",\"comments2\",\"comments3\"]    \n",
    "idLists = [get3frames.remote(name) for name in nameList]\n",
    "\n",
    "print(ray.get(idLists))\n",
    "\n",
    "ray.shutdown()\n",
    "\n",
    "timeEnd = time.time()\n",
    "\n",
    "print(timeEnd - timeStart)"
   ]
  },
  {
   "cell_type": "markdown",
   "metadata": {},
   "source": [
    "### Experiment 3: "
   ]
  },
  {
   "cell_type": "code",
   "execution_count": 12,
   "metadata": {},
   "outputs": [],
   "source": [
    "@ray.remote\n",
    "def getframes(argTuple):   \n",
    "    index = argTuple[0]    \n",
    "    fileName = argTuple[1]\n",
    "\n",
    "    #Lets read in the tweets, and convert them to a DataFrame\n",
    "    topLevelFields = [\"id\",\"created_at\", \"text\",\"quote_count\",\"reply_count\",\"retweet_count\",\n",
    "                      \"favorite_count\",\"user_id\",\"user_screen_name\"]\n",
    "\n",
    "    userFields = [\"id\", \"created_at\", \"name\", \"screen_name\", \"verified\", \"followers_count\", \n",
    "                  \"friends_count\", \"favourites_count\", \"statuses_count\", \n",
    "                 \"profile_background_color\",\"profile_text_color\"]\n",
    "\n",
    "    userCheckDict = {\"test\": 1}\n",
    "\n",
    "    #make an empty DF.\n",
    "    tweetDF = pd.DataFrame(columns=topLevelFields + [\"hashtag_list\"])\n",
    "    userDF = pd.DataFrame(columns=userFields)  #list(map(lambda x: \"user_\" + x , userFields)))\n",
    "\n",
    "    baseDir = \"./data/\"\n",
    "\n",
    "    def parsetweet(jsonObj):\n",
    "        retList = []\n",
    "        for label in topLevelFields[:len(topLevelFields) - 2]: \n",
    "            retList.append(jsonObj[label])\n",
    "\n",
    "        hashTagString = \"\"\n",
    "        if jsonObj[\"entities\"][\"hashtags\"]:\n",
    "            for item in jsonObj[\"entities\"][\"hashtags\"]:\n",
    "                hashTagString = hashTagString + \",\" + item[\"text\"]\n",
    "            hashTagString = hashTagString[1:]\n",
    "            \n",
    "        #Finally, we need to add foreign keys to the user table.\n",
    "        retList.append(jsonObj[\"user\"][\"id\"])\n",
    "        retList.append(jsonObj[\"user\"][\"screen_name\"])\n",
    "        \n",
    "        retList.append(hashTagString)\n",
    "        return retList       \n",
    "\n",
    "    def parseuser(jsonObj):\n",
    "        #first, extract id from jsonObj for user. Is it in our table of users?\n",
    "        #To check (quickly) for a users presence, we need a hash table.\n",
    "        #In python, dictionaries serve the same purpose\n",
    "        retList = []\n",
    "        if jsonObj[\"user\"][\"id\"] not in userCheckDict:\n",
    "            userCheckDict[jsonObj[\"user\"][\"id\"]] = 1\n",
    "            for label in userFields:\n",
    "                retList.append(jsonObj[\"user\"][label])\n",
    "\n",
    "        return retList\n",
    "        \n",
    "    with open(fileName, \"r\") as tweets_file:\n",
    "        for i,line in enumerate(tweets_file):\n",
    "            try:\n",
    "                tweet = json.loads(line)\n",
    "                tweetDF.loc[tweetDF.shape[0]] = parsetweet(tweet)\n",
    "                retList = parseuser(tweet)\n",
    "                if retList: #Not empty: \n",
    "                    userDF.loc[userDF.shape[0]] = retList\n",
    "            except ValueError as e:\n",
    "                print('Handling run-time error:', e)            \n",
    "        tweets_file.close()\n",
    "    tweetDF.to_csv(baseDir + \"stage1/tweets/\" + \"tweets\" + str(index) + \".csv\")\n",
    "    userDF.to_csv(baseDir + \"stage1/users/\" + \"users\" + str(index) + \".csv\")\n",
    "    return "
   ]
  },
  {
   "cell_type": "code",
   "execution_count": 13,
   "metadata": {},
   "outputs": [
    {
     "name": "stderr",
     "output_type": "stream",
     "text": [
      "2019-10-12 10:06:05,132\tINFO resource_spec.py:205 -- Starting Ray with 23.93 GiB memory available for workers and up to 11.97 GiB for objects. You can adjust these settings with ray.init(memory=<bytes>, object_store_memory=<bytes>).\n",
      "2019-10-12 10:06:05,355\tWARNING services.py:770 -- Redis failed to start, retrying now.\n"
     ]
    },
    {
     "data": {
      "text/plain": [
       "{'node_ip_address': '192.168.0.185',\n",
       " 'redis_address': '192.168.0.185:51504',\n",
       " 'object_store_address': '/tmp/ray/session_2019-10-12_10-06-05_129273_3130/sockets/plasma_store',\n",
       " 'raylet_socket_name': '/tmp/ray/session_2019-10-12_10-06-05_129273_3130/sockets/raylet',\n",
       " 'webui_url': None,\n",
       " 'session_dir': '/tmp/ray/session_2019-10-12_10-06-05_129273_3130'}"
      ]
     },
     "execution_count": 13,
     "metadata": {},
     "output_type": "execute_result"
    },
    {
     "name": "stdout",
     "output_type": "stream",
     "text": [
      "\u001b[2m\u001b[36m(pid=5459)\u001b[0m Handling run-time error: Expecting value: line 1 column 1 (char 0)\n",
      "[None, None, None, None, None, None, None, None, None, None, None, None, None, None, None, None, None, None, None, None]\n",
      "1188.776025056839\n"
     ]
    }
   ],
   "source": [
    "#Only call once! \n",
    "timeStart = time.time()\n",
    "\n",
    "ray.init(num_cpus=8) #One File per CPU\n",
    "\n",
    "startDir = \"./data/tweets/\"\n",
    "enumList = list(enumerate(glob.glob(startDir+\"*\")))\n",
    "\n",
    "idLists = [getframes.remote(name) for name in enumList]\n",
    "\n",
    "print(ray.get(idLists))\n",
    "\n",
    "ray.shutdown()\n",
    "\n",
    "timeEnd = time.time()\n",
    "\n",
    "print(timeEnd - timeStart)"
   ]
  },
  {
   "cell_type": "markdown",
   "metadata": {},
   "source": [
    "#### Clean Up Work: Lets join all of our dataframes together:\n"
   ]
  },
  {
   "cell_type": "code",
   "execution_count": 17,
   "metadata": {},
   "outputs": [],
   "source": [
    "tweetPath = \"./data/stage1/tweets/\"\n",
    "userPath = \"./data/stage1/users/\"\n",
    "\n",
    "enumTweets = glob.glob(tweetPath+\"*\")\n",
    "enumUsers = glob.glob(userPath+\"*\")"
   ]
  },
  {
   "cell_type": "code",
   "execution_count": 21,
   "metadata": {},
   "outputs": [
    {
     "data": {
      "text/plain": [
       "[4, 13, 2, 17, 0, 19, 12, 7, 11, 15, 18, 8, 9, 10, 3, 14, 5, 1, 6, 16]"
      ]
     },
     "execution_count": 21,
     "metadata": {},
     "output_type": "execute_result"
    }
   ],
   "source": [
    "list(map(lambda x: int(x.replace(\"./data/stage1/tweets/tweets\",\"\").replace(\".csv\",\"\")),enumTweets))\n",
    "#enumUsers"
   ]
  },
  {
   "cell_type": "code",
   "execution_count": null,
   "metadata": {},
   "outputs": [],
   "source": [
    "#initialize our Dataframe\n",
    "\n",
    "    "
   ]
  },
  {
   "cell_type": "code",
   "execution_count": 67,
   "metadata": {},
   "outputs": [],
   "source": [
    "def concatfile(listPaths,subdir):\n",
    "    fileMap={}\n",
    "    for path in listPaths:\n",
    "        index = int(path.replace(subdir,\"\").replace(\".csv\",\"\"))\n",
    "        fileMap[index] = path\n",
    "    \n",
    "    return fileMap\n",
    "\n",
    "def mergefiles(pathFilesDir,lengthCols,extra):\n",
    "    listFiles = glob.glob(pathFilesDir+\"*\")\n",
    "    #print(listFiles)\n",
    "    #print(pathFilesDir+extra)\n",
    "    fileMap = concatfile(listFiles,pathFilesDir+extra)\n",
    "    frames = [] \n",
    "    \n",
    "    frames.append(pd.read_csv(fileMap[0],header=0,usecols=list(range(1,lengthCols))))\n",
    "    for i in range(1,len(listFiles)):\n",
    "        frames.append(pd.read_csv(fileMap[0],header=0,usecols=list(range(1,lengthCols))))\n",
    "    final = pd.concat(frames)\n",
    "    final.reset_index(drop=True, inplace=True)\n",
    "    return final    \n",
    "\n",
    "    "
   ]
  },
  {
   "cell_type": "code",
   "execution_count": 60,
   "metadata": {},
   "outputs": [
    {
     "data": {
      "text/plain": [
       "{4: './data/stage1/tweets/tweets4.csv',\n",
       " 13: './data/stage1/tweets/tweets13.csv',\n",
       " 2: './data/stage1/tweets/tweets2.csv',\n",
       " 17: './data/stage1/tweets/tweets17.csv',\n",
       " 0: './data/stage1/tweets/tweets0.csv',\n",
       " 19: './data/stage1/tweets/tweets19.csv',\n",
       " 12: './data/stage1/tweets/tweets12.csv',\n",
       " 7: './data/stage1/tweets/tweets7.csv',\n",
       " 11: './data/stage1/tweets/tweets11.csv',\n",
       " 15: './data/stage1/tweets/tweets15.csv',\n",
       " 18: './data/stage1/tweets/tweets18.csv',\n",
       " 8: './data/stage1/tweets/tweets8.csv',\n",
       " 9: './data/stage1/tweets/tweets9.csv',\n",
       " 10: './data/stage1/tweets/tweets10.csv',\n",
       " 3: './data/stage1/tweets/tweets3.csv',\n",
       " 14: './data/stage1/tweets/tweets14.csv',\n",
       " 5: './data/stage1/tweets/tweets5.csv',\n",
       " 1: './data/stage1/tweets/tweets1.csv',\n",
       " 6: './data/stage1/tweets/tweets6.csv',\n",
       " 16: './data/stage1/tweets/tweets16.csv'}"
      ]
     },
     "execution_count": 60,
     "metadata": {},
     "output_type": "execute_result"
    }
   ],
   "source": [
    "pathFilesDir=\"./data/stage1/tweets/\"\n",
    "concatfile(glob.glob(pathFilesDir+\"*\"),pathFilesDir + \"tweets\")"
   ]
  },
  {
   "cell_type": "code",
   "execution_count": 70,
   "metadata": {},
   "outputs": [
    {
     "data": {
      "text/plain": [
       "(400000, 10)"
      ]
     },
     "execution_count": 70,
     "metadata": {},
     "output_type": "execute_result"
    },
    {
     "data": {
      "text/html": [
       "<div>\n",
       "<style scoped>\n",
       "    .dataframe tbody tr th:only-of-type {\n",
       "        vertical-align: middle;\n",
       "    }\n",
       "\n",
       "    .dataframe tbody tr th {\n",
       "        vertical-align: top;\n",
       "    }\n",
       "\n",
       "    .dataframe thead th {\n",
       "        text-align: right;\n",
       "    }\n",
       "</style>\n",
       "<table border=\"1\" class=\"dataframe\">\n",
       "  <thead>\n",
       "    <tr style=\"text-align: right;\">\n",
       "      <th></th>\n",
       "      <th>id</th>\n",
       "      <th>created_at</th>\n",
       "      <th>text</th>\n",
       "      <th>quote_count</th>\n",
       "      <th>reply_count</th>\n",
       "      <th>retweet_count</th>\n",
       "      <th>favorite_count</th>\n",
       "      <th>user_id</th>\n",
       "      <th>user_screen_name</th>\n",
       "      <th>hashtag_list</th>\n",
       "    </tr>\n",
       "  </thead>\n",
       "  <tbody>\n",
       "    <tr>\n",
       "      <th>0</th>\n",
       "      <td>1173228641628622851</td>\n",
       "      <td>Sun Sep 15 13:34:40 +0000 2019</td>\n",
       "      <td>RT @ProudCanadianN1: You need to invite the @p...</td>\n",
       "      <td>0</td>\n",
       "      <td>0</td>\n",
       "      <td>0</td>\n",
       "      <td>0</td>\n",
       "      <td>1100072322977939459</td>\n",
       "      <td>PPC_Retweets</td>\n",
       "      <td>NaN</td>\n",
       "    </tr>\n",
       "    <tr>\n",
       "      <th>1</th>\n",
       "      <td>1173228642316341248</td>\n",
       "      <td>Sun Sep 15 13:34:40 +0000 2019</td>\n",
       "      <td>RT @EyesOfBlue06: I'm  in Ontario.. destroyed ...</td>\n",
       "      <td>0</td>\n",
       "      <td>0</td>\n",
       "      <td>0</td>\n",
       "      <td>0</td>\n",
       "      <td>703601953</td>\n",
       "      <td>cwhoward24</td>\n",
       "      <td>TrudeauMustGo,LiberalsMustGo,Scheer4PM</td>\n",
       "    </tr>\n",
       "    <tr>\n",
       "      <th>2</th>\n",
       "      <td>1173228643272683521</td>\n",
       "      <td>Sun Sep 15 13:34:40 +0000 2019</td>\n",
       "      <td>RT @CBCPolitics: Scheer will stand by candidat...</td>\n",
       "      <td>0</td>\n",
       "      <td>0</td>\n",
       "      <td>0</td>\n",
       "      <td>0</td>\n",
       "      <td>62314888</td>\n",
       "      <td>neilpk70</td>\n",
       "      <td>NaN</td>\n",
       "    </tr>\n",
       "    <tr>\n",
       "      <th>3</th>\n",
       "      <td>1173228643302010886</td>\n",
       "      <td>Sun Sep 15 13:34:40 +0000 2019</td>\n",
       "      <td>RT @acoyne: Contrary to the old Watergate prov...</td>\n",
       "      <td>0</td>\n",
       "      <td>0</td>\n",
       "      <td>0</td>\n",
       "      <td>0</td>\n",
       "      <td>35162290</td>\n",
       "      <td>SeeClickFlash</td>\n",
       "      <td>NaN</td>\n",
       "    </tr>\n",
       "    <tr>\n",
       "      <th>4</th>\n",
       "      <td>1173228644107313153</td>\n",
       "      <td>Sun Sep 15 13:34:40 +0000 2019</td>\n",
       "      <td>RT @AndersonBooz: Because @AndrewScheer lies t...</td>\n",
       "      <td>0</td>\n",
       "      <td>0</td>\n",
       "      <td>0</td>\n",
       "      <td>0</td>\n",
       "      <td>1707977161</td>\n",
       "      <td>M_Simmonds_</td>\n",
       "      <td>NaN</td>\n",
       "    </tr>\n",
       "  </tbody>\n",
       "</table>\n",
       "</div>"
      ],
      "text/plain": [
       "                    id                      created_at                                               text  quote_count  reply_count  retweet_count  favorite_count              user_id user_screen_name                            hashtag_list\n",
       "0  1173228641628622851  Sun Sep 15 13:34:40 +0000 2019  RT @ProudCanadianN1: You need to invite the @p...            0            0              0               0  1100072322977939459     PPC_Retweets                                     NaN\n",
       "1  1173228642316341248  Sun Sep 15 13:34:40 +0000 2019  RT @EyesOfBlue06: I'm  in Ontario.. destroyed ...            0            0              0               0            703601953       cwhoward24  TrudeauMustGo,LiberalsMustGo,Scheer4PM\n",
       "2  1173228643272683521  Sun Sep 15 13:34:40 +0000 2019  RT @CBCPolitics: Scheer will stand by candidat...            0            0              0               0             62314888         neilpk70                                     NaN\n",
       "3  1173228643302010886  Sun Sep 15 13:34:40 +0000 2019  RT @acoyne: Contrary to the old Watergate prov...            0            0              0               0             35162290    SeeClickFlash                                     NaN\n",
       "4  1173228644107313153  Sun Sep 15 13:34:40 +0000 2019  RT @AndersonBooz: Because @AndrewScheer lies t...            0            0              0               0           1707977161      M_Simmonds_                                     NaN"
      ]
     },
     "execution_count": 70,
     "metadata": {},
     "output_type": "execute_result"
    }
   ],
   "source": [
    "fullTweetsDF = mergefiles(\"./data/stage1/tweets/\",11,\"tweets\")\n",
    "fullTweetsDF.to_csv(\"./data/stage2/tweets400k.csv\")\n",
    "fullTweetsDF.shape\n",
    "fullTweetsDF.head()\n"
   ]
  },
  {
   "cell_type": "code",
   "execution_count": 72,
   "metadata": {},
   "outputs": [
    {
     "data": {
      "text/plain": [
       "(144320, 11)"
      ]
     },
     "execution_count": 72,
     "metadata": {},
     "output_type": "execute_result"
    },
    {
     "data": {
      "text/html": [
       "<div>\n",
       "<style scoped>\n",
       "    .dataframe tbody tr th:only-of-type {\n",
       "        vertical-align: middle;\n",
       "    }\n",
       "\n",
       "    .dataframe tbody tr th {\n",
       "        vertical-align: top;\n",
       "    }\n",
       "\n",
       "    .dataframe thead th {\n",
       "        text-align: right;\n",
       "    }\n",
       "</style>\n",
       "<table border=\"1\" class=\"dataframe\">\n",
       "  <thead>\n",
       "    <tr style=\"text-align: right;\">\n",
       "      <th></th>\n",
       "      <th>id</th>\n",
       "      <th>created_at</th>\n",
       "      <th>name</th>\n",
       "      <th>screen_name</th>\n",
       "      <th>verified</th>\n",
       "      <th>followers_count</th>\n",
       "      <th>friends_count</th>\n",
       "      <th>favourites_count</th>\n",
       "      <th>statuses_count</th>\n",
       "      <th>profile_background_color</th>\n",
       "      <th>profile_text_color</th>\n",
       "    </tr>\n",
       "  </thead>\n",
       "  <tbody>\n",
       "    <tr>\n",
       "      <th>0</th>\n",
       "      <td>1100072322977939459</td>\n",
       "      <td>Mon Feb 25 16:37:34 +0000 2019</td>\n",
       "      <td>PPC Retweets 🇨🇦</td>\n",
       "      <td>PPC_Retweets</td>\n",
       "      <td>False</td>\n",
       "      <td>1344</td>\n",
       "      <td>3283</td>\n",
       "      <td>5222</td>\n",
       "      <td>60718</td>\n",
       "      <td>F5F8FA</td>\n",
       "      <td>333333</td>\n",
       "    </tr>\n",
       "    <tr>\n",
       "      <th>1</th>\n",
       "      <td>703601953</td>\n",
       "      <td>Wed Jul 18 18:58:23 +0000 2012</td>\n",
       "      <td>Chad Howard</td>\n",
       "      <td>cwhoward24</td>\n",
       "      <td>False</td>\n",
       "      <td>111</td>\n",
       "      <td>170</td>\n",
       "      <td>2057</td>\n",
       "      <td>1007</td>\n",
       "      <td>C0DEED</td>\n",
       "      <td>333333</td>\n",
       "    </tr>\n",
       "    <tr>\n",
       "      <th>2</th>\n",
       "      <td>62314888</td>\n",
       "      <td>Sun Aug 02 18:13:02 +0000 2009</td>\n",
       "      <td>Count Floyd 🇨🇦</td>\n",
       "      <td>neilpk70</td>\n",
       "      <td>False</td>\n",
       "      <td>619</td>\n",
       "      <td>720</td>\n",
       "      <td>160580</td>\n",
       "      <td>57884</td>\n",
       "      <td>C0DEED</td>\n",
       "      <td>333333</td>\n",
       "    </tr>\n",
       "    <tr>\n",
       "      <th>3</th>\n",
       "      <td>35162290</td>\n",
       "      <td>Sat Apr 25 06:09:36 +0000 2009</td>\n",
       "      <td>Mark O'Henly</td>\n",
       "      <td>SeeClickFlash</td>\n",
       "      <td>False</td>\n",
       "      <td>1449</td>\n",
       "      <td>659</td>\n",
       "      <td>17231</td>\n",
       "      <td>32665</td>\n",
       "      <td>352726</td>\n",
       "      <td>3E4415</td>\n",
       "    </tr>\n",
       "    <tr>\n",
       "      <th>4</th>\n",
       "      <td>1707977161</td>\n",
       "      <td>Wed Aug 28 18:26:29 +0000 2013</td>\n",
       "      <td>Matt Simmonds</td>\n",
       "      <td>M_Simmonds_</td>\n",
       "      <td>False</td>\n",
       "      <td>232</td>\n",
       "      <td>620</td>\n",
       "      <td>2327</td>\n",
       "      <td>3303</td>\n",
       "      <td>C0DEED</td>\n",
       "      <td>333333</td>\n",
       "    </tr>\n",
       "  </tbody>\n",
       "</table>\n",
       "</div>"
      ],
      "text/plain": [
       "                    id                      created_at             name    screen_name  verified  followers_count  friends_count  favourites_count  statuses_count profile_background_color profile_text_color\n",
       "0  1100072322977939459  Mon Feb 25 16:37:34 +0000 2019  PPC Retweets 🇨🇦   PPC_Retweets     False             1344           3283              5222           60718                   F5F8FA             333333\n",
       "1            703601953  Wed Jul 18 18:58:23 +0000 2012      Chad Howard     cwhoward24     False              111            170              2057            1007                   C0DEED             333333\n",
       "2             62314888  Sun Aug 02 18:13:02 +0000 2009   Count Floyd 🇨🇦       neilpk70     False              619            720            160580           57884                   C0DEED             333333\n",
       "3             35162290  Sat Apr 25 06:09:36 +0000 2009     Mark O'Henly  SeeClickFlash     False             1449            659             17231           32665                   352726             3E4415\n",
       "4           1707977161  Wed Aug 28 18:26:29 +0000 2013    Matt Simmonds    M_Simmonds_     False              232            620              2327            3303                   C0DEED             333333"
      ]
     },
     "execution_count": 72,
     "metadata": {},
     "output_type": "execute_result"
    }
   ],
   "source": [
    "fullUsersDF = mergefiles(\"./data/stage1/users/\",12,\"users\")\n",
    "fullUsersDF.to_csv(\"./data/stage2/users400k.csv\")\n",
    "fullUsersDF.shape\n",
    "fullUsersDF.head()"
   ]
  },
  {
   "cell_type": "code",
   "execution_count": 52,
   "metadata": {},
   "outputs": [
    {
     "data": {
      "text/html": [
       "<div>\n",
       "<style scoped>\n",
       "    .dataframe tbody tr th:only-of-type {\n",
       "        vertical-align: middle;\n",
       "    }\n",
       "\n",
       "    .dataframe tbody tr th {\n",
       "        vertical-align: top;\n",
       "    }\n",
       "\n",
       "    .dataframe thead th {\n",
       "        text-align: right;\n",
       "    }\n",
       "</style>\n",
       "<table border=\"1\" class=\"dataframe\">\n",
       "  <thead>\n",
       "    <tr style=\"text-align: right;\">\n",
       "      <th></th>\n",
       "      <th>id</th>\n",
       "      <th>created_at</th>\n",
       "      <th>text</th>\n",
       "      <th>quote_count</th>\n",
       "      <th>reply_count</th>\n",
       "      <th>retweet_count</th>\n",
       "      <th>favorite_count</th>\n",
       "      <th>user_id</th>\n",
       "      <th>user_screen_name</th>\n",
       "      <th>hashtag_list</th>\n",
       "    </tr>\n",
       "  </thead>\n",
       "  <tbody>\n",
       "    <tr>\n",
       "      <th>0</th>\n",
       "      <td>1173228641628622851</td>\n",
       "      <td>Sun Sep 15 13:34:40 +0000 2019</td>\n",
       "      <td>RT @ProudCanadianN1: You need to invite the @p...</td>\n",
       "      <td>0</td>\n",
       "      <td>0</td>\n",
       "      <td>0</td>\n",
       "      <td>0</td>\n",
       "      <td>1100072322977939459</td>\n",
       "      <td>PPC_Retweets</td>\n",
       "      <td>NaN</td>\n",
       "    </tr>\n",
       "    <tr>\n",
       "      <th>1</th>\n",
       "      <td>1173228642316341248</td>\n",
       "      <td>Sun Sep 15 13:34:40 +0000 2019</td>\n",
       "      <td>RT @EyesOfBlue06: I'm  in Ontario.. destroyed ...</td>\n",
       "      <td>0</td>\n",
       "      <td>0</td>\n",
       "      <td>0</td>\n",
       "      <td>0</td>\n",
       "      <td>703601953</td>\n",
       "      <td>cwhoward24</td>\n",
       "      <td>TrudeauMustGo,LiberalsMustGo,Scheer4PM</td>\n",
       "    </tr>\n",
       "    <tr>\n",
       "      <th>2</th>\n",
       "      <td>1173228643272683521</td>\n",
       "      <td>Sun Sep 15 13:34:40 +0000 2019</td>\n",
       "      <td>RT @CBCPolitics: Scheer will stand by candidat...</td>\n",
       "      <td>0</td>\n",
       "      <td>0</td>\n",
       "      <td>0</td>\n",
       "      <td>0</td>\n",
       "      <td>62314888</td>\n",
       "      <td>neilpk70</td>\n",
       "      <td>NaN</td>\n",
       "    </tr>\n",
       "    <tr>\n",
       "      <th>3</th>\n",
       "      <td>1173228643302010886</td>\n",
       "      <td>Sun Sep 15 13:34:40 +0000 2019</td>\n",
       "      <td>RT @acoyne: Contrary to the old Watergate prov...</td>\n",
       "      <td>0</td>\n",
       "      <td>0</td>\n",
       "      <td>0</td>\n",
       "      <td>0</td>\n",
       "      <td>35162290</td>\n",
       "      <td>SeeClickFlash</td>\n",
       "      <td>NaN</td>\n",
       "    </tr>\n",
       "    <tr>\n",
       "      <th>4</th>\n",
       "      <td>1173228644107313153</td>\n",
       "      <td>Sun Sep 15 13:34:40 +0000 2019</td>\n",
       "      <td>RT @AndersonBooz: Because @AndrewScheer lies t...</td>\n",
       "      <td>0</td>\n",
       "      <td>0</td>\n",
       "      <td>0</td>\n",
       "      <td>0</td>\n",
       "      <td>1707977161</td>\n",
       "      <td>M_Simmonds_</td>\n",
       "      <td>NaN</td>\n",
       "    </tr>\n",
       "  </tbody>\n",
       "</table>\n",
       "</div>"
      ],
      "text/plain": [
       "                    id                      created_at                                               text  quote_count  reply_count  retweet_count  favorite_count              user_id user_screen_name                            hashtag_list\n",
       "0  1173228641628622851  Sun Sep 15 13:34:40 +0000 2019  RT @ProudCanadianN1: You need to invite the @p...            0            0              0               0  1100072322977939459     PPC_Retweets                                     NaN\n",
       "1  1173228642316341248  Sun Sep 15 13:34:40 +0000 2019  RT @EyesOfBlue06: I'm  in Ontario.. destroyed ...            0            0              0               0            703601953       cwhoward24  TrudeauMustGo,LiberalsMustGo,Scheer4PM\n",
       "2  1173228643272683521  Sun Sep 15 13:34:40 +0000 2019  RT @CBCPolitics: Scheer will stand by candidat...            0            0              0               0             62314888         neilpk70                                     NaN\n",
       "3  1173228643302010886  Sun Sep 15 13:34:40 +0000 2019  RT @acoyne: Contrary to the old Watergate prov...            0            0              0               0             35162290    SeeClickFlash                                     NaN\n",
       "4  1173228644107313153  Sun Sep 15 13:34:40 +0000 2019  RT @AndersonBooz: Because @AndrewScheer lies t...            0            0              0               0           1707977161      M_Simmonds_                                     NaN"
      ]
     },
     "execution_count": 52,
     "metadata": {},
     "output_type": "execute_result"
    }
   ],
   "source": [
    "fullUsersDF.head()"
   ]
  },
  {
   "cell_type": "code",
   "execution_count": 35,
   "metadata": {},
   "outputs": [
    {
     "data": {
      "text/plain": [
       "[1, 2, 3, 4, 5, 6, 7, 8, 9, 10]"
      ]
     },
     "execution_count": 35,
     "metadata": {},
     "output_type": "execute_result"
    }
   ],
   "source": [
    "list(range(1,11))"
   ]
  },
  {
   "cell_type": "code",
   "execution_count": null,
   "metadata": {},
   "outputs": [],
   "source": []
  }
 ],
 "metadata": {
  "kernelspec": {
   "display_name": "Python 3",
   "language": "python",
   "name": "python3"
  },
  "language_info": {
   "codemirror_mode": {
    "name": "ipython",
    "version": 3
   },
   "file_extension": ".py",
   "mimetype": "text/x-python",
   "name": "python",
   "nbconvert_exporter": "python",
   "pygments_lexer": "ipython3",
   "version": "3.6.8"
  }
 },
 "nbformat": 4,
 "nbformat_minor": 2
}
