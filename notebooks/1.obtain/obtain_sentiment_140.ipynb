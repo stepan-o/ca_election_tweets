{
 "cells": [
  {
   "cell_type": "markdown",
   "source": [
    "# Canadian Election tweets\n",
    "# OSEMN Step 1: Obtain\n",
    "# Sentiment 140 dataset\n",
    "\n",
    "This notebook describes part of Step 1: Obtain of OSEMN methodology. It covers downloading and unpacking Sentiment 140 dataset hosted by Stanford.\n",
    "\n",
    "Dataset and its description can be found at: http://help.sentiment140.com/for-students"
   ],
   "metadata": {
    "collapsed": false
   }
  },
  {
   "cell_type": "code",
   "execution_count": 9,
   "outputs": [],
   "source": [
    "import wget\n",
    "import zipfile\n",
    "from glob import glob\n",
    "from time import time\n",
    "import os"
   ],
   "metadata": {
    "collapsed": false,
    "pycharm": {
     "name": "#%%\n",
     "is_executing": false
    }
   }
  },
  {
   "cell_type": "code",
   "execution_count": 2,
   "outputs": [
    {
     "data": {
      "text/plain": "['sentiment140_trainingandtestdata.zip', 'unpacked']"
     },
     "metadata": {},
     "output_type": "execute_result",
     "execution_count": 2
    }
   ],
   "source": [
    "data_dir = '../../data/'\n",
    "downloads_dir = data_dir + 'downloads/'\n",
    "os.listdir(downloads_dir)"
   ],
   "metadata": {
    "collapsed": false,
    "pycharm": {
     "name": "#%%\n",
     "is_executing": false
    }
   }
  },
  {
   "cell_type": "markdown",
   "source": [
    "## Download archieve"
   ],
   "metadata": {
    "collapsed": false,
    "pycharm": {
     "name": "#%% md\n"
    }
   }
  },
  {
   "cell_type": "code",
   "execution_count": 3,
   "metadata": {
    "collapsed": true,
    "pycharm": {
     "is_executing": false
    }
   },
   "outputs": [
    {
     "name": "stdout",
     "text": [
      "Beginning file download using wget...\n",
      "Download finished, took 26.44 seconds (0.44 minutes)\n"
     ],
     "output_type": "stream"
    }
   ],
   "source": [
    "t = time()\n",
    "file_name = 'sentiment140_trainingandtestdata.zip'\n",
    "sentiment140_link = 'http://cs.stanford.edu/people/alecmgo/trainingandtestdata.zip'\n",
    "print('Beginning file download using wget...')\n",
    "wget.download(sentiment140_link, downloads_dir + file_name)\n",
    "elapsed = time() - t\n",
    "print(\"Download finished, took {0:,.2f} seconds ({1:,.2f} minutes)\".format(elapsed, elapsed / 60))"
   ]
  },
  {
   "cell_type": "code",
   "execution_count": 11,
   "outputs": [
    {
     "data": {
      "text/plain": "['sentiment140_trainingandtestdata.zip']"
     },
     "metadata": {},
     "output_type": "execute_result",
     "execution_count": 11
    }
   ],
   "source": [
    "os.listdir(downloads_dir)"
   ],
   "metadata": {
    "collapsed": false,
    "pycharm": {
     "name": "#%%\n",
     "is_executing": false
    }
   }
  },
  {
   "cell_type": "markdown",
   "source": [
    "## Unpack archive"
   ],
   "metadata": {
    "collapsed": false,
    "pycharm": {
     "name": "#%% md\n"
    }
   }
  },
  {
   "cell_type": "code",
   "execution_count": 7,
   "outputs": [
    {
     "data": {
      "text/plain": "['../../data/downloads/sentiment140_trainingandtestdata.zip']"
     },
     "metadata": {},
     "output_type": "execute_result",
     "execution_count": 7
    }
   ],
   "source": [
    "archives = glob(downloads_dir + '*.zip')\n",
    "archives"
   ],
   "metadata": {
    "collapsed": false,
    "pycharm": {
     "name": "#%%\n",
     "is_executing": false
    }
   }
  },
  {
   "cell_type": "code",
   "execution_count": 12,
   "outputs": [
    {
     "name": "stdout",
     "text": [
      "Unpacking archives using gzip module\n- unpacking file 'sentiment140_trainingandtestdata.zip'\n",
      "Unpacking finished, took 1.94 seconds (0.03 minutes)\n"
     ],
     "output_type": "stream"
    }
   ],
   "source": [
    "unpack_dir = data_dir + 'sentiment140/'\n",
    "t = time()\n",
    "print(\"Unpacking archives using gzip module\")\n",
    "\n",
    "for archive in archives:\n",
    "    file_name = archive.split('/')[-1]\n",
    "    save_file_name = file_name[:-3]\n",
    "    print(\"- unpacking file '{0}'\".format(file_name))\n",
    "    with zipfile.ZipFile(archive, 'r') as f_in:\n",
    "        f_in.extractall(unpack_dir)\n",
    "\n",
    "elapsed = time() - t\n",
    "print(\"Unpacking finished, took {0:,.2f} seconds ({1:,.2f} minutes)\".format(elapsed, elapsed / 60))\n"
   ],
   "metadata": {
    "collapsed": false,
    "pycharm": {
     "name": "#%%\n",
     "is_executing": false
    }
   }
  }
 ],
 "metadata": {
  "kernelspec": {
   "display_name": "Python 3",
   "language": "python",
   "name": "python3"
  },
  "language_info": {
   "codemirror_mode": {
    "name": "ipython",
    "version": 2
   },
   "file_extension": ".py",
   "mimetype": "text/x-python",
   "name": "python",
   "nbconvert_exporter": "python",
   "pygments_lexer": "ipython2",
   "version": "2.7.6"
  },
  "pycharm": {
   "stem_cell": {
    "cell_type": "raw",
    "source": [],
    "metadata": {
     "collapsed": false
    }
   }
  }
 },
 "nbformat": 4,
 "nbformat_minor": 0
}