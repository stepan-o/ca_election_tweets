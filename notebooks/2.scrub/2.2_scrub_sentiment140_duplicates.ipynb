{
 "cells": [
  {
   "cell_type": "markdown",
   "metadata": {},
   "source": [
    "# 2019 Canadian Election tweets\n",
    "# OSEMN Step 2: Scrub\n",
    "# Cleanup of Sentiment 140 dataset\n",
    "# Removal of duplicates\n",
    "\n",
    "This notebook describes part of Step 2: Scrub of OSEMN methodology. It covers cleanup of Sentiment 140.\n",
    "\n",
    "Cleanup plan:\n",
    "\n",
    "1. Duplicate checks\n",
    "2. Remove duplicated mislabelled tweets\n",
    "3. Remove users with high count of tweets (tweeter bots, duplicated posts)"
   ]
  },
  {
   "cell_type": "markdown",
   "metadata": {
    "pycharm": {
     "name": "#%% md\n"
    }
   },
   "source": [
    "## Import dependencies"
   ]
  },
  {
   "cell_type": "code",
   "execution_count": 1,
   "metadata": {
    "pycharm": {
     "is_executing": false,
     "name": "#%%\n"
    }
   },
   "outputs": [],
   "source": [
    "import pandas as pd\n",
    "import matplotlib.pyplot as plt\n",
    "import seaborn as sns\n",
    "import os\n",
    "import sys\n",
    "from time import time\n",
    "\n",
    "sns.set()"
   ]
  },
  {
   "cell_type": "code",
   "execution_count": 2,
   "metadata": {
    "pycharm": {
     "is_executing": false,
     "name": "#%%\n"
    }
   },
   "outputs": [],
   "source": [
    "sys.path.append('../../src')\n",
    "from proc_utils import duplicate_check"
   ]
  },
  {
   "cell_type": "code",
   "execution_count": 3,
   "metadata": {
    "pycharm": {
     "is_executing": false,
     "name": "#%%\n"
    }
   },
   "outputs": [
    {
     "data": {
      "text/plain": [
       "['testdata.manual.2009.06.14.csv',\n",
       " 'training.1600000.processed.noemoticon.csv',\n",
       " 'sentiment140_train_nodup.csv',\n",
       " 'sentiment140_train_cleaned.csv']"
      ]
     },
     "execution_count": 3,
     "metadata": {},
     "output_type": "execute_result"
    }
   ],
   "source": [
    "data_dir = '../../data/sentiment140/'\n",
    "os.listdir(data_dir)"
   ]
  },
  {
   "cell_type": "markdown",
   "metadata": {
    "pycharm": {
     "name": "#%% md\n"
    }
   },
   "source": [
    "## Load Sentiment 140 dataset"
   ]
  },
  {
   "cell_type": "code",
   "execution_count": 4,
   "metadata": {
    "pycharm": {
     "is_executing": false,
     "name": "#%%\n"
    }
   },
   "outputs": [
    {
     "name": "stdout",
     "output_type": "stream",
     "text": [
      "----- DataFrame loaded\n",
      "in 5.56 seconds\n",
      "with 1,599,306 rows\n",
      "and 8 columns\n",
      "-- Column names:\n",
      " Index(['sentiment', 'ids', 'date', 'query', 'user', 'text', 'hashtags',\n",
      "       'handles'],\n",
      "      dtype='object')\n"
     ]
    }
   ],
   "source": [
    "t = time()\n",
    "df = pd.read_csv(data_dir + 'sentiment140_train_cleaned.csv')\n",
    "elapsed = time() - t\n",
    "print(\"----- DataFrame loaded\"\n",
    "      \"\\nin {0:.2f} seconds\".format(elapsed) +\n",
    "      \"\\nwith {0:,} rows\\nand {1:,} columns\"\n",
    "      .format(df.shape[0], df.shape[1]) +\n",
    "      \"\\n-- Column names:\\n\", df.columns)\n"
   ]
  },
  {
   "cell_type": "markdown",
   "metadata": {},
   "source": [
    "## Duplicate check"
   ]
  },
  {
   "cell_type": "markdown",
   "metadata": {},
   "source": [
    "### Duplicate check criteria\n",
    "\n",
    "Duplicate checks have been performed with the following criteria used for detection:\n",
    "\n",
    "* all columns (entries must match on all columns to be considered duplicated)\n",
    "\n",
    "* each column excluded one by one from the list, check performed with the rest\n",
    "\n",
    "* date+user+text (same date, same user, same text)\n",
    "\n",
    "* user+text (same user, same text)\n",
    "\n",
    "* id+text (same tweet id, same text)\n",
    "\n",
    "### Duplicate check results\n",
    "\n",
    "* there are some misclassified records -- they match in everything, but have different `'class'`\n",
    "\n",
    "* there are some users with a much higher number of posts than the mean\n",
    "\n",
    "* there are some twitter bots present in the dataset\n",
    "\n",
    "* users can post duplicated tweets"
   ]
  },
  {
   "cell_type": "code",
   "execution_count": 5,
   "metadata": {
    "pycharm": {
     "is_executing": false,
     "name": "#%%\n"
    }
   },
   "outputs": [
    {
     "name": "stdout",
     "output_type": "stream",
     "text": [
      "Subset 'all_columns': 0 (0.00% of total 1,599,306) records are detected as duplicated.\n",
      "Subset 'date+user+text': 1,880 (0.12% of total 1,599,306) records are detected as duplicated.\n",
      "Subset 'user+text': 6,727 (0.42% of total 1,599,306) records are detected as duplicated.\n",
      "Subset 'id+text': 1,684 (0.11% of total 1,599,306) records are detected as duplicated.\n"
     ]
    },
    {
     "data": {
      "text/html": [
       "<div>\n",
       "<style scoped>\n",
       "    .dataframe tbody tr th:only-of-type {\n",
       "        vertical-align: middle;\n",
       "    }\n",
       "\n",
       "    .dataframe tbody tr th {\n",
       "        vertical-align: top;\n",
       "    }\n",
       "\n",
       "    .dataframe thead th {\n",
       "        text-align: right;\n",
       "    }\n",
       "</style>\n",
       "<table border=\"1\" class=\"dataframe\">\n",
       "  <thead>\n",
       "    <tr style=\"text-align: right;\">\n",
       "      <th></th>\n",
       "      <th>all_columns</th>\n",
       "      <th>date+user+text</th>\n",
       "      <th>user+text</th>\n",
       "      <th>id+text</th>\n",
       "    </tr>\n",
       "  </thead>\n",
       "  <tbody>\n",
       "    <tr>\n",
       "      <td>num_duplicates</td>\n",
       "      <td>0.0</td>\n",
       "      <td>1.880000e+03</td>\n",
       "      <td>6.727000e+03</td>\n",
       "      <td>1.684000e+03</td>\n",
       "    </tr>\n",
       "    <tr>\n",
       "      <td>num_total</td>\n",
       "      <td>1599306.0</td>\n",
       "      <td>1.599306e+06</td>\n",
       "      <td>1.599306e+06</td>\n",
       "      <td>1.599306e+06</td>\n",
       "    </tr>\n",
       "    <tr>\n",
       "      <td>percentage</td>\n",
       "      <td>0.0</td>\n",
       "      <td>1.175510e-01</td>\n",
       "      <td>4.206199e-01</td>\n",
       "      <td>1.052957e-01</td>\n",
       "    </tr>\n",
       "  </tbody>\n",
       "</table>\n",
       "</div>"
      ],
      "text/plain": [
       "                all_columns  date+user+text     user+text       id+text\n",
       "num_duplicates          0.0    1.880000e+03  6.727000e+03  1.684000e+03\n",
       "num_total         1599306.0    1.599306e+06  1.599306e+06  1.599306e+06\n",
       "percentage              0.0    1.175510e-01  4.206199e-01  1.052957e-01"
      ]
     },
     "execution_count": 5,
     "metadata": {},
     "output_type": "execute_result"
    },
    {
     "data": {
      "image/png": "[encoded data removed]",
      "text/plain": [
       "<Figure size 432x432 with 1 Axes>"
      ]
     },
     "metadata": {
      "needs_background": "light"
     },
     "output_type": "display_data"
    }
   ],
   "source": [
    "subsets_to_check = {\n",
    "    'date+user+text': ['date', 'user', 'text'],\n",
    "    'user+text': ['user', 'text'],\n",
    "    'id+text': ['ids', 'text']\n",
    "}\n",
    "\n",
    "# added columns 'hashtags' and 'handles' are excluded from the check\n",
    "duplicate_check(df.drop(['hashtags', 'handles'], axis=1), \n",
    "                subsets_to_check=subsets_to_check)"
   ]
  },
  {
   "cell_type": "markdown",
   "metadata": {
    "pycharm": {
     "name": "#%% md\n"
    }
   },
   "source": [
    "## Remove duplicated mislabelled tweets"
   ]
  },
  {
   "cell_type": "code",
   "execution_count": 6,
   "metadata": {
    "pycharm": {
     "is_executing": false,
     "name": "#%%\n"
    }
   },
   "outputs": [
    {
     "data": {
      "text/plain": [
       "1684"
      ]
     },
     "execution_count": 6,
     "metadata": {},
     "output_type": "execute_result"
    }
   ],
   "source": [
    "df.drop('sentiment', axis=1).duplicated().sum()"
   ]
  },
  {
   "cell_type": "markdown",
   "metadata": {},
   "source": [
    "Duplicate check using all columns (with `'sentiment'` excluded) detects 1684 duplicates -- these pairs of records are identical in everything, but one is classified as \"positive\", and another one as \"negative\"."
   ]
  },
  {
   "cell_type": "code",
   "execution_count": 7,
   "metadata": {
    "pycharm": {
     "is_executing": false,
     "name": "#%%\n"
    }
   },
   "outputs": [
    {
     "data": {
      "text/html": [
       "<div>\n",
       "<style scoped>\n",
       "    .dataframe tbody tr th:only-of-type {\n",
       "        vertical-align: middle;\n",
       "    }\n",
       "\n",
       "    .dataframe tbody tr th {\n",
       "        vertical-align: top;\n",
       "    }\n",
       "\n",
       "    .dataframe thead th {\n",
       "        text-align: right;\n",
       "    }\n",
       "</style>\n",
       "<table border=\"1\" class=\"dataframe\">\n",
       "  <thead>\n",
       "    <tr style=\"text-align: right;\">\n",
       "      <th></th>\n",
       "      <th>sentiment</th>\n",
       "      <th>ids</th>\n",
       "      <th>date</th>\n",
       "      <th>query</th>\n",
       "      <th>user</th>\n",
       "      <th>text</th>\n",
       "      <th>hashtags</th>\n",
       "      <th>handles</th>\n",
       "    </tr>\n",
       "  </thead>\n",
       "  <tbody>\n",
       "    <tr>\n",
       "      <td>135660</td>\n",
       "      <td>0</td>\n",
       "      <td>1879941003</td>\n",
       "      <td>2009-05-21 23:36:00</td>\n",
       "      <td>NO_QUERY</td>\n",
       "      <td>007peter</td>\n",
       "      <td>naniwaialeale no not keith olbermann he annoy ...</td>\n",
       "      <td>NaN</td>\n",
       "      <td>@NaniWaialeale</td>\n",
       "    </tr>\n",
       "    <tr>\n",
       "      <td>999760</td>\n",
       "      <td>4</td>\n",
       "      <td>1879941003</td>\n",
       "      <td>2009-05-21 23:36:00</td>\n",
       "      <td>NO_QUERY</td>\n",
       "      <td>007peter</td>\n",
       "      <td>naniwaialeale no not keith olbermann he annoy ...</td>\n",
       "      <td>NaN</td>\n",
       "      <td>@NaniWaialeale</td>\n",
       "    </tr>\n",
       "    <tr>\n",
       "      <td>1193803</td>\n",
       "      <td>4</td>\n",
       "      <td>1984377787</td>\n",
       "      <td>2009-05-31 14:59:31</td>\n",
       "      <td>NO_QUERY</td>\n",
       "      <td>15AMR</td>\n",
       "      <td>i m broke cuz she got all she wanted going hoe...</td>\n",
       "      <td>NaN</td>\n",
       "      <td>NaN</td>\n",
       "    </tr>\n",
       "    <tr>\n",
       "      <td>254966</td>\n",
       "      <td>0</td>\n",
       "      <td>1984377787</td>\n",
       "      <td>2009-05-31 14:59:31</td>\n",
       "      <td>NO_QUERY</td>\n",
       "      <td>15AMR</td>\n",
       "      <td>i m broke cuz she got all she wanted going hoe...</td>\n",
       "      <td>NaN</td>\n",
       "      <td>NaN</td>\n",
       "    </tr>\n",
       "    <tr>\n",
       "      <td>258264</td>\n",
       "      <td>0</td>\n",
       "      <td>1985150195</td>\n",
       "      <td>2009-05-31 16:32:00</td>\n",
       "      <td>NO_QUERY</td>\n",
       "      <td>19fischi75</td>\n",
       "      <td>impala_guy yeah this is really annoying will s...</td>\n",
       "      <td>NaN</td>\n",
       "      <td>@Impala_Guy</td>\n",
       "    </tr>\n",
       "    <tr>\n",
       "      <td>469334</td>\n",
       "      <td>0</td>\n",
       "      <td>2176210509</td>\n",
       "      <td>2009-06-15 03:14:01</td>\n",
       "      <td>NO_QUERY</td>\n",
       "      <td>19fischi75</td>\n",
       "      <td>impala_guy sorry missed again the boss was her...</td>\n",
       "      <td>NaN</td>\n",
       "      <td>@Impala_Guy</td>\n",
       "    </tr>\n",
       "    <tr>\n",
       "      <td>1519893</td>\n",
       "      <td>4</td>\n",
       "      <td>2176210509</td>\n",
       "      <td>2009-06-15 03:14:01</td>\n",
       "      <td>NO_QUERY</td>\n",
       "      <td>19fischi75</td>\n",
       "      <td>impala_guy sorry missed again the boss was her...</td>\n",
       "      <td>NaN</td>\n",
       "      <td>@Impala_Guy</td>\n",
       "    </tr>\n",
       "    <tr>\n",
       "      <td>1198259</td>\n",
       "      <td>4</td>\n",
       "      <td>1985150195</td>\n",
       "      <td>2009-05-31 16:32:00</td>\n",
       "      <td>NO_QUERY</td>\n",
       "      <td>19fischi75</td>\n",
       "      <td>impala_guy yeah this is really annoying will s...</td>\n",
       "      <td>NaN</td>\n",
       "      <td>@Impala_Guy</td>\n",
       "    </tr>\n",
       "    <tr>\n",
       "      <td>71982</td>\n",
       "      <td>0</td>\n",
       "      <td>1694107135</td>\n",
       "      <td>2009-05-04 01:06:58</td>\n",
       "      <td>NO_QUERY</td>\n",
       "      <td>26Neil</td>\n",
       "      <td>i love camp fires i just wish the kids would t...</td>\n",
       "      <td>NaN</td>\n",
       "      <td>NaN</td>\n",
       "    </tr>\n",
       "    <tr>\n",
       "      <td>900538</td>\n",
       "      <td>4</td>\n",
       "      <td>1694107135</td>\n",
       "      <td>2009-05-04 01:06:58</td>\n",
       "      <td>NO_QUERY</td>\n",
       "      <td>26Neil</td>\n",
       "      <td>i love camp fires i just wish the kids would t...</td>\n",
       "      <td>NaN</td>\n",
       "      <td>NaN</td>\n",
       "    </tr>\n",
       "  </tbody>\n",
       "</table>\n",
       "</div>"
      ],
      "text/plain": [
       "         sentiment         ids                 date     query        user  \\\n",
       "135660           0  1879941003  2009-05-21 23:36:00  NO_QUERY    007peter   \n",
       "999760           4  1879941003  2009-05-21 23:36:00  NO_QUERY    007peter   \n",
       "1193803          4  1984377787  2009-05-31 14:59:31  NO_QUERY       15AMR   \n",
       "254966           0  1984377787  2009-05-31 14:59:31  NO_QUERY       15AMR   \n",
       "258264           0  1985150195  2009-05-31 16:32:00  NO_QUERY  19fischi75   \n",
       "469334           0  2176210509  2009-06-15 03:14:01  NO_QUERY  19fischi75   \n",
       "1519893          4  2176210509  2009-06-15 03:14:01  NO_QUERY  19fischi75   \n",
       "1198259          4  1985150195  2009-05-31 16:32:00  NO_QUERY  19fischi75   \n",
       "71982            0  1694107135  2009-05-04 01:06:58  NO_QUERY      26Neil   \n",
       "900538           4  1694107135  2009-05-04 01:06:58  NO_QUERY      26Neil   \n",
       "\n",
       "                                                      text hashtags  \\\n",
       "135660   naniwaialeale no not keith olbermann he annoy ...      NaN   \n",
       "999760   naniwaialeale no not keith olbermann he annoy ...      NaN   \n",
       "1193803  i m broke cuz she got all she wanted going hoe...      NaN   \n",
       "254966   i m broke cuz she got all she wanted going hoe...      NaN   \n",
       "258264   impala_guy yeah this is really annoying will s...      NaN   \n",
       "469334   impala_guy sorry missed again the boss was her...      NaN   \n",
       "1519893  impala_guy sorry missed again the boss was her...      NaN   \n",
       "1198259  impala_guy yeah this is really annoying will s...      NaN   \n",
       "71982    i love camp fires i just wish the kids would t...      NaN   \n",
       "900538   i love camp fires i just wish the kids would t...      NaN   \n",
       "\n",
       "                handles  \n",
       "135660   @NaniWaialeale  \n",
       "999760   @NaniWaialeale  \n",
       "1193803             NaN  \n",
       "254966              NaN  \n",
       "258264      @Impala_Guy  \n",
       "469334      @Impala_Guy  \n",
       "1519893     @Impala_Guy  \n",
       "1198259     @Impala_Guy  \n",
       "71982               NaN  \n",
       "900538              NaN  "
      ]
     },
     "execution_count": 7,
     "metadata": {},
     "output_type": "execute_result"
    }
   ],
   "source": [
    "# get the list of 'id's of all rows that have 2 records under the same 'id' \n",
    "ids = df['ids'].value_counts()[df['ids'].value_counts() == 2].index\n",
    "mask = df['ids'].isin(ids)\n",
    "df[mask].sort_values('user').head(10)"
   ]
  },
  {
   "cell_type": "code",
   "execution_count": 8,
   "metadata": {
    "pycharm": {
     "is_executing": false,
     "name": "#%%\n"
    }
   },
   "outputs": [
    {
     "name": "stdout",
     "output_type": "stream",
     "text": [
      "1,597,622 records remaining in the DataFrame.\n"
     ]
    }
   ],
   "source": [
    "mask1 = df.drop('sentiment', axis=1).duplicated()\n",
    "df = df[~mask1]\n",
    "print(\"{0:,} records remaining in the DataFrame.\".format(len(df)))\n"
   ]
  },
  {
   "cell_type": "markdown",
   "metadata": {},
   "source": [
    "## Users with a high frequency of tweets"
   ]
  },
  {
   "cell_type": "code",
   "execution_count": 9,
   "metadata": {
    "pycharm": {
     "is_executing": false,
     "name": "#%%\n"
    }
   },
   "outputs": [
    {
     "data": {
      "text/plain": [
       "lost_dog           549\n",
       "webwoke            345\n",
       "tweetpet           310\n",
       "SallytheShizzle    281\n",
       "VioletsCRUK        279\n",
       "                  ... \n",
       "Emma_Dowie           1\n",
       "niteshbhatia         1\n",
       "hellodomii           1\n",
       "nikki71              1\n",
       "alarizzy             1\n",
       "Name: user, Length: 659459, dtype: int64"
      ]
     },
     "execution_count": 9,
     "metadata": {},
     "output_type": "execute_result"
    }
   ],
   "source": [
    "df['user'].value_counts()"
   ]
  },
  {
   "cell_type": "code",
   "execution_count": 10,
   "metadata": {
    "pycharm": {
     "is_executing": false,
     "name": "#%%\n"
    }
   },
   "outputs": [
    {
     "data": {
      "text/plain": [
       "count    659459.000000\n",
       "mean          2.422625\n",
       "std           4.703843\n",
       "min           1.000000\n",
       "25%           1.000000\n",
       "50%           1.000000\n",
       "75%           2.000000\n",
       "max         549.000000\n",
       "Name: user, dtype: float64"
      ]
     },
     "execution_count": 10,
     "metadata": {},
     "output_type": "execute_result"
    }
   ],
   "source": [
    "df['user'].value_counts().describe()"
   ]
  },
  {
   "cell_type": "code",
   "execution_count": 11,
   "metadata": {
    "pycharm": {
     "is_executing": false,
     "name": "#%%\n"
    }
   },
   "outputs": [
    {
     "data": {
      "image/png": "[encoded data removed]",
      "text/plain": [
       "<Figure size 1080x432 with 1 Axes>"
      ]
     },
     "metadata": {
      "needs_background": "light"
     },
     "output_type": "display_data"
    }
   ],
   "source": [
    "# create figure and axis\n",
    "f, ax = plt.subplots(1, figsize=(15, 6))\n",
    "font_mean = {'family': 'serif',\n",
    "            'color':  'black',\n",
    "            'weight': 'normal',\n",
    "            'size': 20,\n",
    "            }\n",
    "\n",
    "font_labels = {'family': 'serif',\n",
    "               'color':  'black',\n",
    "               'weight': 'normal',\n",
    "               'size': 20,\n",
    "               }\n",
    "\n",
    "# plot value counts for top 30 users by # of records\n",
    "df['user'].value_counts().head(200).plot(kind='bar', color='gray', ax=ax)\n",
    "\n",
    "# plot the mean\n",
    "mean = df['user'].value_counts().mean()\n",
    "ax.axhline(mean, color='deeppink', linestyle='--', linewidth=5)\n",
    "ax.text(0, \n",
    "        mean * 6, \n",
    "        \"Mean: {0:.2f} posts per 'user'\".format(mean), \n",
    "        fontdict=font_mean,\n",
    "        bbox=dict(facecolor='deeppink', edgecolor='blue', pad=1.0, alpha=0.5))\n",
    "ax.set_xlabel(\"user\", fontdict=font_labels)\n",
    "ax.set_ylabel(\"no of tweets\", fontdict=font_labels)\n",
    "ax.set_title(\"Top 200 users from Sentiment 140\\n \\\n",
    "some users have much more tweets than others\\npotentially Twitter bots\", fontdict=font_labels)\n",
    "ax.axhline(100, linewidth=5)\n",
    "ax.text(145, 110, \"100 posts\", fontdict={'family': 'serif', 'color': 'blue', 'size':'20'})\n",
    "plt.grid(False)\n",
    "f.savefig('results/tweets_per_user.png', bbox_inches='tight')"
   ]
  },
  {
   "cell_type": "markdown",
   "metadata": {},
   "source": [
    "## Twitter bots\n",
    "Some of the users with a large number of tweets correspond to tweeter bots."
   ]
  },
  {
   "cell_type": "code",
   "execution_count": 12,
   "metadata": {
    "pycharm": {
     "is_executing": false,
     "name": "#%%\n"
    }
   },
   "outputs": [
    {
     "data": {
      "text/html": [
       "<div>\n",
       "<style scoped>\n",
       "    .dataframe tbody tr th:only-of-type {\n",
       "        vertical-align: middle;\n",
       "    }\n",
       "\n",
       "    .dataframe tbody tr th {\n",
       "        vertical-align: top;\n",
       "    }\n",
       "\n",
       "    .dataframe thead th {\n",
       "        text-align: right;\n",
       "    }\n",
       "</style>\n",
       "<table border=\"1\" class=\"dataframe\">\n",
       "  <thead>\n",
       "    <tr style=\"text-align: right;\">\n",
       "      <th></th>\n",
       "      <th>date</th>\n",
       "      <th>user</th>\n",
       "      <th>text</th>\n",
       "    </tr>\n",
       "  </thead>\n",
       "  <tbody>\n",
       "    <tr>\n",
       "      <td>9560</td>\n",
       "      <td>2009-04-17 22:00:01</td>\n",
       "      <td>tweetpet</td>\n",
       "      <td>tweetchild clean me</td>\n",
       "    </tr>\n",
       "    <tr>\n",
       "      <td>9561</td>\n",
       "      <td>2009-04-17 22:00:01</td>\n",
       "      <td>tweetpet</td>\n",
       "      <td>tweetchild clean me</td>\n",
       "    </tr>\n",
       "    <tr>\n",
       "      <td>9562</td>\n",
       "      <td>2009-04-17 22:00:02</td>\n",
       "      <td>tweetpet</td>\n",
       "      <td>chromachris clean me</td>\n",
       "    </tr>\n",
       "    <tr>\n",
       "      <td>9564</td>\n",
       "      <td>2009-04-17 22:00:03</td>\n",
       "      <td>tweetpet</td>\n",
       "      <td>reatlas clean me</td>\n",
       "    </tr>\n",
       "    <tr>\n",
       "      <td>9565</td>\n",
       "      <td>2009-04-17 22:00:03</td>\n",
       "      <td>tweetpet</td>\n",
       "      <td>chromachris clean me</td>\n",
       "    </tr>\n",
       "    <tr>\n",
       "      <td>...</td>\n",
       "      <td>...</td>\n",
       "      <td>...</td>\n",
       "      <td>...</td>\n",
       "    </tr>\n",
       "    <tr>\n",
       "      <td>49679</td>\n",
       "      <td>2009-05-02 06:00:37</td>\n",
       "      <td>tweetpet</td>\n",
       "      <td>amateurdelta54 clean me</td>\n",
       "    </tr>\n",
       "    <tr>\n",
       "      <td>49680</td>\n",
       "      <td>2009-05-02 06:00:38</td>\n",
       "      <td>tweetpet</td>\n",
       "      <td>littleblue62 clean me</td>\n",
       "    </tr>\n",
       "    <tr>\n",
       "      <td>49681</td>\n",
       "      <td>2009-05-02 06:00:39</td>\n",
       "      <td>tweetpet</td>\n",
       "      <td>shawn1976 clean me</td>\n",
       "    </tr>\n",
       "    <tr>\n",
       "      <td>49694</td>\n",
       "      <td>2009-05-02 06:01:02</td>\n",
       "      <td>tweetpet</td>\n",
       "      <td>tkgfmb hungry type feed to feed me</td>\n",
       "    </tr>\n",
       "    <tr>\n",
       "      <td>49695</td>\n",
       "      <td>2009-05-02 06:01:03</td>\n",
       "      <td>tweetpet</td>\n",
       "      <td>palfour89 hungry type feed to feed me</td>\n",
       "    </tr>\n",
       "  </tbody>\n",
       "</table>\n",
       "<p>310 rows × 3 columns</p>\n",
       "</div>"
      ],
      "text/plain": [
       "                      date      user                                   text\n",
       "9560   2009-04-17 22:00:01  tweetpet                    tweetchild clean me\n",
       "9561   2009-04-17 22:00:01  tweetpet                    tweetchild clean me\n",
       "9562   2009-04-17 22:00:02  tweetpet                   chromachris clean me\n",
       "9564   2009-04-17 22:00:03  tweetpet                       reatlas clean me\n",
       "9565   2009-04-17 22:00:03  tweetpet                   chromachris clean me\n",
       "...                    ...       ...                                    ...\n",
       "49679  2009-05-02 06:00:37  tweetpet                amateurdelta54 clean me\n",
       "49680  2009-05-02 06:00:38  tweetpet                  littleblue62 clean me\n",
       "49681  2009-05-02 06:00:39  tweetpet                     shawn1976 clean me\n",
       "49694  2009-05-02 06:01:02  tweetpet     tkgfmb hungry type feed to feed me\n",
       "49695  2009-05-02 06:01:03  tweetpet  palfour89 hungry type feed to feed me\n",
       "\n",
       "[310 rows x 3 columns]"
      ]
     },
     "execution_count": 12,
     "metadata": {},
     "output_type": "execute_result"
    }
   ],
   "source": [
    "mask1 = df['user'] == 'tweetpet'\n",
    "df.loc[mask1, ['date', 'user', 'text']]\n"
   ]
  },
  {
   "cell_type": "code",
   "execution_count": 13,
   "metadata": {
    "pycharm": {
     "is_executing": false,
     "name": "#%%\n"
    }
   },
   "outputs": [
    {
     "data": {
      "image/png": "[encoded data removed]",
      "text/plain": [
       "<Figure size 576x432 with 1 Axes>"
      ]
     },
     "metadata": {
      "needs_background": "light"
     },
     "output_type": "display_data"
    }
   ],
   "source": [
    "max_tweets = 30\n",
    "mask1 = df['user'].value_counts() < max_tweets\n",
    "df['user'].value_counts()[mask1].hist(bins=max_tweets, figsize=(8, 6))\n",
    "plt.grid(False)"
   ]
  },
  {
   "cell_type": "markdown",
   "metadata": {
    "pycharm": {
     "name": "#%% md\n"
    }
   },
   "source": [
    "## Remove users with a high frequency of tweets"
   ]
  },
  {
   "cell_type": "code",
   "execution_count": 14,
   "metadata": {
    "pycharm": {
     "is_executing": false,
     "name": "#%%\n"
    }
   },
   "outputs": [
    {
     "name": "stdout",
     "output_type": "stream",
     "text": [
      "DataFrame contains 659,459 unique users, out of them 9,555 (0.01%) have more than 15 tweets\n"
     ]
    }
   ],
   "source": [
    "max_tweets = 15\n",
    "mask1 = df['user'].value_counts() > max_tweets\n",
    "num_unique_users = df['user'].nunique()\n",
    "num_hf_users = mask1.sum()\n",
    "print(\"DataFrame contains {0:,} unique users, out of them {1:,} ({2:.2f}%) have more than {3} tweets\".\n",
    "      format(num_unique_users, num_hf_users, num_hf_users / num_unique_users, max_tweets))"
   ]
  },
  {
   "cell_type": "code",
   "execution_count": 15,
   "metadata": {
    "pycharm": {
     "is_executing": false,
     "name": "#%%\n"
    }
   },
   "outputs": [
    {
     "name": "stdout",
     "output_type": "stream",
     "text": [
      "1,314,520 records remaining in the DataFrame.\n"
     ]
    }
   ],
   "source": [
    "max_tweets = 15\n",
    "mask1 = df['user'].value_counts() > max_tweets\n",
    "drop_ids = mask1[mask1 == True].index\n",
    "drop_mask = df['user'].isin(drop_ids)\n",
    "df = df[~drop_mask]\n",
    "print(\"{0:,} records remaining in the DataFrame.\".format(len(df)))"
   ]
  },
  {
   "cell_type": "code",
   "execution_count": 16,
   "metadata": {
    "pycharm": {
     "is_executing": false,
     "name": "#%%\n"
    }
   },
   "outputs": [
    {
     "data": {
      "image/png": "[encoded data removed]",
      "text/plain": [
       "<Figure size 576x432 with 1 Axes>"
      ]
     },
     "metadata": {
      "needs_background": "light"
     },
     "output_type": "display_data"
    }
   ],
   "source": [
    "df['user'].value_counts().hist(bins=15, figsize=(8, 6))\n",
    "plt.grid(False)"
   ]
  },
  {
   "cell_type": "markdown",
   "metadata": {
    "pycharm": {
     "name": "#%% md\n"
    }
   },
   "source": [
    "## Some users post duplicated posts (maybe more bots)"
   ]
  },
  {
   "cell_type": "code",
   "execution_count": 17,
   "metadata": {
    "pycharm": {
     "is_executing": false,
     "name": "#%%\n"
    }
   },
   "outputs": [
    {
     "name": "stdout",
     "output_type": "stream",
     "text": [
      "Subset 'all_columns': 0 (0.00% of total 1,314,520) records are detected as duplicated.\n",
      "Subset 'date+user+text': 154 (0.01% of total 1,314,520) records are detected as duplicated.\n",
      "Subset 'user+text': 2,799 (0.21% of total 1,314,520) records are detected as duplicated.\n",
      "Subset 'id+text': 0 (0.00% of total 1,314,520) records are detected as duplicated.\n"
     ]
    },
    {
     "data": {
      "text/html": [
       "<div>\n",
       "<style scoped>\n",
       "    .dataframe tbody tr th:only-of-type {\n",
       "        vertical-align: middle;\n",
       "    }\n",
       "\n",
       "    .dataframe tbody tr th {\n",
       "        vertical-align: top;\n",
       "    }\n",
       "\n",
       "    .dataframe thead th {\n",
       "        text-align: right;\n",
       "    }\n",
       "</style>\n",
       "<table border=\"1\" class=\"dataframe\">\n",
       "  <thead>\n",
       "    <tr style=\"text-align: right;\">\n",
       "      <th></th>\n",
       "      <th>all_columns</th>\n",
       "      <th>date+user+text</th>\n",
       "      <th>user+text</th>\n",
       "      <th>id+text</th>\n",
       "    </tr>\n",
       "  </thead>\n",
       "  <tbody>\n",
       "    <tr>\n",
       "      <td>num_duplicates</td>\n",
       "      <td>0.0</td>\n",
       "      <td>1.540000e+02</td>\n",
       "      <td>2.799000e+03</td>\n",
       "      <td>0.0</td>\n",
       "    </tr>\n",
       "    <tr>\n",
       "      <td>num_total</td>\n",
       "      <td>1314520.0</td>\n",
       "      <td>1.314520e+06</td>\n",
       "      <td>1.314520e+06</td>\n",
       "      <td>1314520.0</td>\n",
       "    </tr>\n",
       "    <tr>\n",
       "      <td>percentage</td>\n",
       "      <td>0.0</td>\n",
       "      <td>1.171530e-02</td>\n",
       "      <td>2.129294e-01</td>\n",
       "      <td>0.0</td>\n",
       "    </tr>\n",
       "  </tbody>\n",
       "</table>\n",
       "</div>"
      ],
      "text/plain": [
       "                all_columns  date+user+text     user+text    id+text\n",
       "num_duplicates          0.0    1.540000e+02  2.799000e+03        0.0\n",
       "num_total         1314520.0    1.314520e+06  1.314520e+06  1314520.0\n",
       "percentage              0.0    1.171530e-02  2.129294e-01        0.0"
      ]
     },
     "execution_count": 17,
     "metadata": {},
     "output_type": "execute_result"
    },
    {
     "data": {
      "image/png": "[encoded data removed]",
      "text/plain": [
       "<Figure size 432x432 with 1 Axes>"
      ]
     },
     "metadata": {
      "needs_background": "light"
     },
     "output_type": "display_data"
    }
   ],
   "source": [
    "subsets_to_check = {\n",
    "    'date+user+text': ['date', 'user', 'text'],\n",
    "    'user+text': ['user', 'text'],\n",
    "    'id+text': ['ids', 'text']\n",
    "}\n",
    "\n",
    "# added columns 'hashtags' and 'handles' are excluded from the check\n",
    "duplicate_check(df.drop(['hashtags', 'handles'], axis=1), \n",
    "                subsets_to_check=subsets_to_check)"
   ]
  },
  {
   "cell_type": "code",
   "execution_count": 18,
   "metadata": {
    "pycharm": {
     "is_executing": false,
     "name": "#%%\n"
    }
   },
   "outputs": [
    {
     "data": {
      "text/html": [
       "<div>\n",
       "<style scoped>\n",
       "    .dataframe tbody tr th:only-of-type {\n",
       "        vertical-align: middle;\n",
       "    }\n",
       "\n",
       "    .dataframe tbody tr th {\n",
       "        vertical-align: top;\n",
       "    }\n",
       "\n",
       "    .dataframe thead th {\n",
       "        text-align: right;\n",
       "    }\n",
       "</style>\n",
       "<table border=\"1\" class=\"dataframe\">\n",
       "  <thead>\n",
       "    <tr style=\"text-align: right;\">\n",
       "      <th></th>\n",
       "      <th>date</th>\n",
       "      <th>user</th>\n",
       "      <th>text</th>\n",
       "    </tr>\n",
       "  </thead>\n",
       "  <tbody>\n",
       "    <tr>\n",
       "      <td>161059</td>\n",
       "      <td>2009-05-28 23:49:17</td>\n",
       "      <td>ziggywas</td>\n",
       "      <td>summer glau to appear in dollhouse next year i...</td>\n",
       "    </tr>\n",
       "    <tr>\n",
       "      <td>154775</td>\n",
       "      <td>2009-05-27 07:18:32</td>\n",
       "      <td>zio5t4n</td>\n",
       "      <td>all_lies_about</td>\n",
       "    </tr>\n",
       "    <tr>\n",
       "      <td>703334</td>\n",
       "      <td>2009-06-20 11:41:45</td>\n",
       "      <td>zio5t4n</td>\n",
       "      <td>all_lies_about</td>\n",
       "    </tr>\n",
       "    <tr>\n",
       "      <td>1385191</td>\n",
       "      <td>2009-06-06 01:57:28</td>\n",
       "      <td>zoliky</td>\n",
       "      <td>how to run mac os x on pc 100 compatibility we...</td>\n",
       "    </tr>\n",
       "    <tr>\n",
       "      <td>1385143</td>\n",
       "      <td>2009-06-06 01:56:09</td>\n",
       "      <td>zoliky</td>\n",
       "      <td>how to run mac os x on pc 100 compatibility we...</td>\n",
       "    </tr>\n",
       "    <tr>\n",
       "      <td>800632</td>\n",
       "      <td>2009-04-06 23:03:31</td>\n",
       "      <td>zottarella</td>\n",
       "      <td>lets drop ich hatte gerade k se auf toast germ...</td>\n",
       "    </tr>\n",
       "    <tr>\n",
       "      <td>810404</td>\n",
       "      <td>2009-04-07 07:30:20</td>\n",
       "      <td>zottarella</td>\n",
       "      <td>lets drop ich hatte gerade k se auf toast germ...</td>\n",
       "    </tr>\n",
       "    <tr>\n",
       "      <td>801783</td>\n",
       "      <td>2009-04-07 00:03:33</td>\n",
       "      <td>zottarella</td>\n",
       "      <td>lets drop ich hatte gerade k se auf toast germ...</td>\n",
       "    </tr>\n",
       "    <tr>\n",
       "      <td>871025</td>\n",
       "      <td>2009-05-02 07:12:54</td>\n",
       "      <td>zyozyfounder</td>\n",
       "      <td>gabrielrossi this is so brilliant i m going re...</td>\n",
       "    </tr>\n",
       "    <tr>\n",
       "      <td>871024</td>\n",
       "      <td>2009-05-02 07:12:54</td>\n",
       "      <td>zyozyfounder</td>\n",
       "      <td>gabrielrossi this is so brilliant i m going re...</td>\n",
       "    </tr>\n",
       "  </tbody>\n",
       "</table>\n",
       "</div>"
      ],
      "text/plain": [
       "                        date          user  \\\n",
       "161059   2009-05-28 23:49:17      ziggywas   \n",
       "154775   2009-05-27 07:18:32       zio5t4n   \n",
       "703334   2009-06-20 11:41:45       zio5t4n   \n",
       "1385191  2009-06-06 01:57:28        zoliky   \n",
       "1385143  2009-06-06 01:56:09        zoliky   \n",
       "800632   2009-04-06 23:03:31    zottarella   \n",
       "810404   2009-04-07 07:30:20    zottarella   \n",
       "801783   2009-04-07 00:03:33    zottarella   \n",
       "871025   2009-05-02 07:12:54  zyozyfounder   \n",
       "871024   2009-05-02 07:12:54  zyozyfounder   \n",
       "\n",
       "                                                      text  \n",
       "161059   summer glau to appear in dollhouse next year i...  \n",
       "154775                                      all_lies_about  \n",
       "703334                                      all_lies_about  \n",
       "1385191  how to run mac os x on pc 100 compatibility we...  \n",
       "1385143  how to run mac os x on pc 100 compatibility we...  \n",
       "800632   lets drop ich hatte gerade k se auf toast germ...  \n",
       "810404   lets drop ich hatte gerade k se auf toast germ...  \n",
       "801783   lets drop ich hatte gerade k se auf toast germ...  \n",
       "871025   gabrielrossi this is so brilliant i m going re...  \n",
       "871024   gabrielrossi this is so brilliant i m going re...  "
      ]
     },
     "execution_count": 18,
     "metadata": {},
     "output_type": "execute_result"
    }
   ],
   "source": [
    "mask1 = df.duplicated(subset=['user', 'text'], keep=False)\n",
    "df.loc[mask1, ['date', 'user', 'text']].sort_values('user').tail(10)"
   ]
  },
  {
   "cell_type": "code",
   "execution_count": 19,
   "metadata": {
    "pycharm": {
     "is_executing": false,
     "name": "#%%\n"
    }
   },
   "outputs": [
    {
     "name": "stdout",
     "output_type": "stream",
     "text": [
      "1,309,540 records remaining in the DataFrame.\n"
     ]
    }
   ],
   "source": [
    "df = df[~mask1]\n",
    "print(\"{0:,} records remaining in the DataFrame.\".format(len(df)))"
   ]
  },
  {
   "cell_type": "markdown",
   "metadata": {},
   "source": [
    "## Confirmatory duplicate check"
   ]
  },
  {
   "cell_type": "code",
   "execution_count": 20,
   "metadata": {
    "pycharm": {
     "is_executing": false,
     "name": "#%%\n"
    }
   },
   "outputs": [
    {
     "name": "stdout",
     "output_type": "stream",
     "text": [
      "Subset 'all_columns': 0 (0.00% of total 1,309,540) records are detected as duplicated.\n",
      "Subset 'date+user+text': 0 (0.00% of total 1,309,540) records are detected as duplicated.\n",
      "Subset 'user+text': 0 (0.00% of total 1,309,540) records are detected as duplicated.\n",
      "Subset 'id+text': 0 (0.00% of total 1,309,540) records are detected as duplicated.\n"
     ]
    },
    {
     "data": {
      "text/html": [
       "<div>\n",
       "<style scoped>\n",
       "    .dataframe tbody tr th:only-of-type {\n",
       "        vertical-align: middle;\n",
       "    }\n",
       "\n",
       "    .dataframe tbody tr th {\n",
       "        vertical-align: top;\n",
       "    }\n",
       "\n",
       "    .dataframe thead th {\n",
       "        text-align: right;\n",
       "    }\n",
       "</style>\n",
       "<table border=\"1\" class=\"dataframe\">\n",
       "  <thead>\n",
       "    <tr style=\"text-align: right;\">\n",
       "      <th></th>\n",
       "      <th>all_columns</th>\n",
       "      <th>date+user+text</th>\n",
       "      <th>user+text</th>\n",
       "      <th>id+text</th>\n",
       "    </tr>\n",
       "  </thead>\n",
       "  <tbody>\n",
       "    <tr>\n",
       "      <td>num_duplicates</td>\n",
       "      <td>0.0</td>\n",
       "      <td>0.0</td>\n",
       "      <td>0.0</td>\n",
       "      <td>0.0</td>\n",
       "    </tr>\n",
       "    <tr>\n",
       "      <td>num_total</td>\n",
       "      <td>1309540.0</td>\n",
       "      <td>1309540.0</td>\n",
       "      <td>1309540.0</td>\n",
       "      <td>1309540.0</td>\n",
       "    </tr>\n",
       "    <tr>\n",
       "      <td>percentage</td>\n",
       "      <td>0.0</td>\n",
       "      <td>0.0</td>\n",
       "      <td>0.0</td>\n",
       "      <td>0.0</td>\n",
       "    </tr>\n",
       "  </tbody>\n",
       "</table>\n",
       "</div>"
      ],
      "text/plain": [
       "                all_columns  date+user+text  user+text    id+text\n",
       "num_duplicates          0.0             0.0        0.0        0.0\n",
       "num_total         1309540.0       1309540.0  1309540.0  1309540.0\n",
       "percentage              0.0             0.0        0.0        0.0"
      ]
     },
     "execution_count": 20,
     "metadata": {},
     "output_type": "execute_result"
    },
    {
     "data": {
      "image/png": "[encoded data removed]",
      "text/plain": [
       "<Figure size 432x432 with 1 Axes>"
      ]
     },
     "metadata": {
      "needs_background": "light"
     },
     "output_type": "display_data"
    }
   ],
   "source": [
    "subsets_to_check = {\n",
    "    'date+user+text': ['date', 'user', 'text'],\n",
    "    'user+text': ['user', 'text'],\n",
    "    'id+text': ['ids', 'text']\n",
    "}\n",
    "\n",
    "# added columns 'hashtags' and 'handles' are excluded from the check\n",
    "duplicate_check(df.drop(['hashtags', 'handles'], axis=1), \n",
    "                subsets_to_check=subsets_to_check)"
   ]
  },
  {
   "cell_type": "markdown",
   "metadata": {
    "pycharm": {
     "name": "#%% md\n"
    }
   },
   "source": [
    "## Save results to a .csv file"
   ]
  },
  {
   "cell_type": "code",
   "execution_count": 21,
   "metadata": {
    "pycharm": {
     "is_executing": false,
     "name": "#%%\n"
    }
   },
   "outputs": [
    {
     "name": "stdout",
     "output_type": "stream",
     "text": [
      "DataFrame saved to file\n",
      "../../data/sentiment140/sentiment140_train_nodup.csv\n",
      "took 10.93 seconds (0.18 minutes)\n"
     ]
    }
   ],
   "source": [
    "save_path = data_dir + 'sentiment140_train_nodup.csv'\n",
    "t = time()\n",
    "df.to_csv(save_path, index=False)\n",
    "elapsed = time() - t\n",
    "print(\"DataFrame saved to file\\n{0}\\ntook {1:,.2f} seconds ({2:,.2f} minutes)\"\n",
    "      .format(save_path, elapsed, elapsed / 60))\n"
   ]
  }
 ],
 "metadata": {
  "kernelspec": {
   "display_name": "Python 3",
   "language": "python",
   "name": "python3"
  },
  "language_info": {
   "codemirror_mode": {
    "name": "ipython",
    "version": 3
   },
   "file_extension": ".py",
   "mimetype": "text/x-python",
   "name": "python",
   "nbconvert_exporter": "python",
   "pygments_lexer": "ipython3",
   "version": "3.7.4"
  },
  "pycharm": {
   "stem_cell": {
    "cell_type": "raw",
    "metadata": {
     "collapsed": false
    },
    "source": []
   }
  }
 },
 "nbformat": 4,
 "nbformat_minor": 1
}
